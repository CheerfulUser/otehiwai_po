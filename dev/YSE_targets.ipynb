{
 "cells": [
  {
   "cell_type": "code",
   "execution_count": null,
   "metadata": {},
   "outputs": [],
   "source": []
  }
 ],
 "metadata": {
  "kernelspec": {
   "display_name": "Python 3.9.13 ('base')",
   "language": "python",
   "name": "python3"
  },
  "language_info": {
   "name": "python",
   "version": "3.9.13"
  },
  "orig_nbformat": 4,
  "vscode": {
   "interpreter": {
    "hash": "42e41a4508e5fc4ab02f1200527090e813b24cf3bc748d5466c90ef25c56102e"
   }
  }
 },
 "nbformat": 4,
 "nbformat_minor": 2
}
