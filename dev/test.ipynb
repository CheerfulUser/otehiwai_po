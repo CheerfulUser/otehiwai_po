{
 "cells": [
  {
   "cell_type": "code",
   "execution_count": 1,
   "metadata": {},
   "outputs": [],
   "source": [
    "from astroplan import Observer\n",
    "import astropy.units as u\n",
    "from astropy.time import Time\n",
    "from astropy.coordinates import SkyCoord\n",
    "\n",
    "from astroplan import ObservingBlock\n",
    "from astroplan.constraints import TimeConstraint\n",
    "from astropy import units as u\n",
    "from astroplan.constraints import AtNightConstraint, AirmassConstraint\n",
    "from astroplan.scheduling import Transitioner\n",
    "\n",
    "from astroplan.scheduling import SequentialScheduler\n",
    "from astroplan.scheduling import Schedule\n",
    "from astroplan import FixedTarget\n",
    "from astroplan.scheduling import PriorityScheduler"
   ]
  },
  {
   "cell_type": "code",
   "execution_count": 2,
   "metadata": {},
   "outputs": [],
   "source": [
    "observatory = Observer.at_site(site_name='MJO')"
   ]
  },
  {
   "cell_type": "code",
   "execution_count": 3,
   "metadata": {},
   "outputs": [],
   "source": [
    "def make_target(ra,dec,name):\n",
    "    c = SkyCoord(ra,dec,unit=u.deg)\n",
    "    targ = FixedTarget(coord=c,name=name)\n",
    "    return targ\n",
    "\n",
    "def make_block(obj,priority=0,readout=32):\n",
    "\n",
    "    read_out = readout * u.second\n",
    "\n",
    "    targ = make_target(obj['ra'],obj['dec'],obj['object'])\n",
    "    exp = obj['expTime'] * u.s\n",
    "    repeats = obj['count']\n",
    "    filt = obj['filter']\n",
    "\n",
    "\n",
    "    block = ObservingBlock.from_exposures(targ, priority, exp, repeats, read_out,\n",
    "                                        configuration = {'filter': filt})\n",
    "    return block"
   ]
  },
  {
   "cell_type": "code",
   "execution_count": 4,
   "metadata": {},
   "outputs": [],
   "source": [
    "import json \n",
    "test = json.load(open('../otehiwai_po/targets/20221113/look.json'))"
   ]
  },
  {
   "cell_type": "code",
   "execution_count": 5,
   "metadata": {},
   "outputs": [],
   "source": [
    "blocks = []\n",
    "for ob in test:\n",
    "    blocks +=  [make_block(ob)]"
   ]
  },
  {
   "cell_type": "code",
   "execution_count": 13,
   "metadata": {},
   "outputs": [],
   "source": [
    "observatory = Observer.at_site('MJO')\n",
    "\n",
    "global_constraints = [AirmassConstraint(max = 3, boolean_constraint = False),\n",
    "                      AtNightConstraint.twilight_civil()]\n",
    "\n",
    "noon_before = Time('2022-11-06 06:00')\n",
    "noon_after = Time('2022-11-06 20:00')\n",
    "\n",
    "slew_rate = .5*u.deg/u.second # need to measure\n",
    "transitioner = Transitioner(slew_rate,\n",
    "                            {'filter':{('R','V'): 180*u.second,\n",
    "                                       ('I','V'): 240*u.second,\n",
    "                                       ('I','R'): 240*u.second,\n",
    "                                       'default': 180*u.second}}) # need to measure"
   ]
  },
  {
   "cell_type": "code",
   "execution_count": 14,
   "metadata": {},
   "outputs": [
    {
     "data": {
      "text/plain": [
       "Schedule containing 18 observing blocks between 2022-11-06 06:00:00.000 and 2022-11-06 20:00:00.000"
      ]
     },
     "execution_count": 14,
     "metadata": {},
     "output_type": "execute_result"
    }
   ],
   "source": [
    "seq_scheduler = SequentialScheduler(constraints = global_constraints,\n",
    "                                    observer = observatory,\n",
    "                                    transitioner = transitioner)\n",
    "# Initialize a Schedule object, to contain the new schedule\n",
    "sequential_schedule = Schedule(noon_before, noon_after)\n",
    "\n",
    "# Call the schedule with the observing blocks and schedule to schedule the blocks\n",
    "seq_scheduler(blocks, sequential_schedule)\n"
   ]
  },
  {
   "cell_type": "code",
   "execution_count": 15,
   "metadata": {},
   "outputs": [
    {
     "data": {
      "text/plain": [
       "Schedule containing 16 observing blocks between 2022-11-06 06:00:00.000 and 2022-11-06 20:00:00.000"
      ]
     },
     "execution_count": 15,
     "metadata": {},
     "output_type": "execute_result"
    }
   ],
   "source": [
    "prior_scheduler = PriorityScheduler(constraints = global_constraints,\n",
    "                                    observer = observatory,\n",
    "                                    transitioner = transitioner)\n",
    "# Initialize a Schedule object, to contain the new schedule\n",
    "priority_schedule = Schedule(noon_before, noon_after)\n",
    "\n",
    "# Call the schedule with the observing blocks and schedule to schedule the blocks\n",
    "prior_scheduler(blocks, priority_schedule)"
   ]
  },
  {
   "cell_type": "code",
   "execution_count": 16,
   "metadata": {},
   "outputs": [],
   "source": [
    "a = priority_schedule.to_table()"
   ]
  },
  {
   "cell_type": "code",
   "execution_count": 17,
   "metadata": {},
   "outputs": [
    {
     "name": "stdout",
     "output_type": "stream",
     "text": [
      "      target     \n",
      "-----------------\n",
      "C2021_K3_2022S-01\n",
      "  TransitionBlock\n",
      "C2020_T2_2022S-01\n",
      "  TransitionBlock\n",
      "C2017_K2_2022S-01\n",
      "  TransitionBlock\n",
      "    2060_2022S-01\n",
      "              ...\n",
      "  TransitionBlock\n",
      "C2019_E3_2022S-01\n",
      "  TransitionBlock\n",
      "C2019_L3_2022S-01\n",
      "  TransitionBlock\n",
      "C2021_C5_2022S-01\n",
      "  TransitionBlock\n",
      "C2021_E3_2022S-01\n",
      "Length = 31 rows\n"
     ]
    }
   ],
   "source": [
    "print(a['target'])"
   ]
  },
  {
   "cell_type": "code",
   "execution_count": null,
   "metadata": {},
   "outputs": [],
   "source": [
    "import warnings\n",
    "warnings.filterwarnings(\"ignore\")\n",
    "\n",
    "from astroplan.plots import plot_schedule_airmass\n",
    "import matplotlib.pyplot as plt\n",
    "\n",
    "# plot the schedule with the airmass of the targets\n",
    "plt.figure(figsize = (14,6))\n",
    "plot_schedule_airmass(priority_schedule,show_night='True',use_local_tz=True)\n",
    "plt.legend(loc = \"upper right\")\n",
    "plt.show()"
   ]
  },
  {
   "cell_type": "code",
   "execution_count": 43,
   "metadata": {},
   "outputs": [],
   "source": [
    "%matplotlib inline"
   ]
  },
  {
   "cell_type": "code",
   "execution_count": 26,
   "metadata": {},
   "outputs": [],
   "source": [
    "date = '20221114'"
   ]
  },
  {
   "cell_type": "code",
   "execution_count": 28,
   "metadata": {},
   "outputs": [
    {
     "data": {
      "text/plain": [
       "'2022'"
      ]
     },
     "execution_count": 28,
     "metadata": {},
     "output_type": "execute_result"
    }
   ],
   "source": [
    "date[0:4]"
   ]
  },
  {
   "cell_type": "code",
   "execution_count": 33,
   "metadata": {},
   "outputs": [],
   "source": [
    "dat = '{y}-{m}-{d}'.format(y=date[0:4],m=date[4:6],d=date[6:8])"
   ]
  },
  {
   "cell_type": "code",
   "execution_count": 34,
   "metadata": {},
   "outputs": [
    {
     "data": {
      "text/plain": [
       "'2022-11-14'"
      ]
     },
     "execution_count": 34,
     "metadata": {},
     "output_type": "execute_result"
    }
   ],
   "source": [
    "dat"
   ]
  },
  {
   "cell_type": "code",
   "execution_count": 11,
   "metadata": {},
   "outputs": [
    {
     "ename": "NameError",
     "evalue": "name '__file__' is not defined",
     "output_type": "error",
     "traceback": [
      "\u001b[0;31m---------------------------------------------------------------------------\u001b[0m",
      "\u001b[0;31mNameError\u001b[0m                                 Traceback (most recent call last)",
      "Input \u001b[0;32mIn [11]\u001b[0m, in \u001b[0;36m<cell line: 2>\u001b[0;34m()\u001b[0m\n\u001b[1;32m      1\u001b[0m \u001b[38;5;28;01mimport\u001b[39;00m \u001b[38;5;21;01mos\u001b[39;00m\n\u001b[0;32m----> 2\u001b[0m package_directory \u001b[38;5;241m=\u001b[39m os\u001b[38;5;241m.\u001b[39mpath\u001b[38;5;241m.\u001b[39mdirname(os\u001b[38;5;241m.\u001b[39mpath\u001b[38;5;241m.\u001b[39mabspath(\u001b[38;5;18;43m__file__\u001b[39;49m)) \u001b[38;5;241m+\u001b[39m \u001b[38;5;124m'\u001b[39m\u001b[38;5;124m/\u001b[39m\u001b[38;5;124m'\u001b[39m\n",
      "\u001b[0;31mNameError\u001b[0m: name '__file__' is not defined"
     ]
    }
   ],
   "source": [
    "import os\n"
   ]
  },
  {
   "cell_type": "code",
   "execution_count": 16,
   "metadata": {},
   "outputs": [],
   "source": [
    "b = a.to_pandas()"
   ]
  },
  {
   "cell_type": "code",
   "execution_count": 17,
   "metadata": {},
   "outputs": [],
   "source": [
    "from datetime import datetime"
   ]
  },
  {
   "cell_type": "code",
   "execution_count": 18,
   "metadata": {},
   "outputs": [
    {
     "name": "stdout",
     "output_type": "stream",
     "text": [
      "2022-11-12 20:04:48.210271\n"
     ]
    }
   ],
   "source": [
    "print(datetime.now())"
   ]
  },
  {
   "cell_type": "code",
   "execution_count": 19,
   "metadata": {},
   "outputs": [],
   "source": [
    "d = datetime.now()"
   ]
  },
  {
   "cell_type": "code",
   "execution_count": 22,
   "metadata": {},
   "outputs": [
    {
     "data": {
      "text/plain": [
       "'20221112'"
      ]
     },
     "execution_count": 22,
     "metadata": {},
     "output_type": "execute_result"
    }
   ],
   "source": [
    "str(d.year) + str(d.month) + str(d.day)"
   ]
  },
  {
   "cell_type": "code",
   "execution_count": null,
   "metadata": {},
   "outputs": [],
   "source": []
  }
 ],
 "metadata": {
  "kernelspec": {
   "display_name": "Python 3 (ipykernel)",
   "language": "python",
   "name": "python3"
  },
  "language_info": {
   "codemirror_mode": {
    "name": "ipython",
    "version": 3
   },
   "file_extension": ".py",
   "mimetype": "text/x-python",
   "name": "python",
   "nbconvert_exporter": "python",
   "pygments_lexer": "ipython3",
   "version": "3.9.13"
  },
  "vscode": {
   "interpreter": {
    "hash": "42e41a4508e5fc4ab02f1200527090e813b24cf3bc748d5466c90ef25c56102e"
   }
  }
 },
 "nbformat": 4,
 "nbformat_minor": 2
}
