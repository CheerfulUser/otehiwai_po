{
 "cells": [
  {
   "cell_type": "code",
   "execution_count": 1,
   "metadata": {},
   "outputs": [],
   "source": [
    "import pandas as pd\n",
    "import numpy as np\n",
    "import matplotlib.pyplot as plt\n",
    "from astropy.coordinates import SkyCoord\n",
    "import astropy.units as u\n",
    "from copy import deepcopy"
   ]
  },
  {
   "cell_type": "code",
   "execution_count": 2,
   "metadata": {},
   "outputs": [],
   "source": [
    "def scrub_look_targets(maglim=22, dec_lim=15):\n",
    "    looks = pd.read_html('https://neoexchange.lco.global/lookproject/')\n",
    "    active = looks[0]\n",
    "    new = looks[1]\n",
    "    mag_ind = (active['V Mag.'].values < 22) & (active['V Mag.'].values > 12)\n",
    "    dec = np.array([int(v.split(' ')[0]) for v in active['Dec.'].values])\n",
    "    dec_ind = dec < dec_lim\n",
    "    active = active.iloc[mag_ind & dec_ind]\n",
    "    mag_ind = new['V Mag.'].values < 22\n",
    "    dec = np.array([int(v.split(' ')[0]) for v in new['Dec.'].values])\n",
    "    dec_ind = dec < dec_lim\n",
    "    new = new.iloc[mag_ind & dec_ind]\n",
    "    look = {'active':active,'new':new}\n",
    "    return look"
   ]
  },
  {
   "cell_type": "code",
   "execution_count": 18,
   "metadata": {},
   "outputs": [],
   "source": [
    "def rough_exptime(mag,a=14.71317761, b=-17.04790805,  c=18.22621702):\n",
    "    exp_time = a*np.exp(mag+b) + c\n",
    "    return int(exp_time)\n",
    "\n",
    "def rate_limit(rate,pixsize=0.6,ap_size=5):\n",
    "    pixrate = rate/pixsize\n",
    "    time = (ap_size / pixrate) * 60\n",
    "    return int(time)\n",
    "\n",
    "def make_obs_entry(exptime,filt,repeats,obj,ra,dec,propid,priority=1,exptype='object'):\n",
    "    obs = {\n",
    "        \"count\": repeats,\n",
    "        \"expType\": exptype,\n",
    "        \"object\": obj,\n",
    "        \"filter\": filt,\n",
    "        \"expTime\": exptime,\n",
    "        \"ra\": ra,\n",
    "        \"dec\": dec,\n",
    "        \"propid\": propid,\n",
    "        \"priority\":int(priority)\n",
    "        }\n",
    "    return obs\n",
    "\n",
    "from astropy.coordinates import SkyCoord\n",
    "import astropy.units as u\n",
    "\n",
    "def format_coord(ra,dec):\n",
    "    if type(ra) == str:\n",
    "        c = SkyCoord(ra,dec,unit=(u.hourangle,u.deg))\n",
    "        ra = c.ra.deg\n",
    "        dec = c.dec.deg\n",
    "    return ra,dec\n"
   ]
  },
  {
   "cell_type": "code",
   "execution_count": 21,
   "metadata": {},
   "outputs": [],
   "source": [
    "def make_look_entries(look,total_time=0.5*60**2,readout=40,filters=['R']):\n",
    "    obs = []\n",
    "    key = list(look.keys())\n",
    "    for k in key:\n",
    "        ll = look[k]\n",
    "        for j in range(len(ll)):\n",
    "            l = ll.iloc[j]\n",
    "            rate_lim = rate_limit(l['Rate (\"/min)'])\n",
    "            exptime = rough_exptime(l['V Mag.'])\n",
    "            if rate_lim < exptime:\n",
    "                m = '!!! exposure time is too long for rate!!! \\n Rescaling: {}s -> {}s'.format(exptime,rate_lim)\n",
    "                print(m)\n",
    "                exptime = rate_lim\n",
    "            if 300 < exptime:\n",
    "                m = '!!! exposure time is too long for tracking!!! \\n Rescaling: {}s -> {}s'.format(exptime,500)\n",
    "                print(m)\n",
    "                exptime = 300\n",
    "            repeats = int(total_time / (exptime + readout))\n",
    "            ra,dec = format_coord(l['R.A.'],l['Dec.'])\n",
    "            name = l['Target Name'].replace(' ','_').replace('/','') + '_' + '2022S-01'\n",
    "            priority = l['priority']\n",
    "            for f in filters:\n",
    "                ob = make_obs_entry(exptime,f,repeats,name,ra,dec,propid='2022S-01',priority=priority)\n",
    "                obs += [ob]\n",
    "    return obs    \n",
    "            \n",
    "\n",
    "def look_priority(look,names=None,magrange=[['22-19',0],['19-17',1],['17-15',2],['15-12',3]]):\n",
    "    looks = deepcopy(look['active'])\n",
    "    looks['priority'] = int(2)\n",
    "    if magrange is not None:\n",
    "        for i in range(len(magrange)):\n",
    "            f,b = magrange[i][0].split('-')\n",
    "            b = float(b); f = float(f)\n",
    "            if b < f:\n",
    "                temp = deepcopy(f)\n",
    "                f = b\n",
    "                b = temp\n",
    "            ind = (looks['V Mag.'].values < f) & (looks['V Mag.'].values > b)\n",
    "            looks['priority'].iloc[ind] = int(magrange[i][1])\n",
    "\n",
    "\n",
    "    if names is not None:\n",
    "        for i in range(len(names)):\n",
    "            name = names[i]\n",
    "            for j in range(len(looks)):\n",
    "                if name[0] in looks.iloc[j]['Target Name']:\n",
    "                    looks['priority'].iloc[j] = int(name[1])\n",
    "    look['active'] = looks\n",
    "    return look\n",
    "\n",
    "                \n",
    "    \n",
    "\n",
    "\n",
    "def save_targs(target_list,name):\n",
    "    import json\n",
    "    with open(name, 'w') as fout:\n",
    "        json.dump(target_list, fout,indent=2)\n"
   ]
  },
  {
   "cell_type": "code",
   "execution_count": 22,
   "metadata": {},
   "outputs": [
    {
     "name": "stdout",
     "output_type": "stream",
     "text": [
      "!!! exposure time is too long for rate!!! \n",
      " Rescaling: 189s -> 76s\n",
      "!!! exposure time is too long for rate!!! \n",
      " Rescaling: 189s -> 75s\n",
      "!!! exposure time is too long for rate!!! \n",
      " Rescaling: 398s -> 160s\n",
      "!!! exposure time is too long for rate!!! \n",
      " Rescaling: 329s -> 222s\n",
      "!!! exposure time is too long for rate!!! \n",
      " Rescaling: 1280s -> 666s\n",
      "!!! exposure time is too long for tracking!!! \n",
      " Rescaling: 666s -> 500s\n",
      "!!! exposure time is too long for tracking!!! \n",
      " Rescaling: 783s -> 500s\n",
      "!!! exposure time is too long for tracking!!! \n",
      " Rescaling: 362s -> 500s\n",
      "!!! exposure time is too long for rate!!! \n",
      " Rescaling: 1901s -> 1058s\n",
      "!!! exposure time is too long for tracking!!! \n",
      " Rescaling: 1058s -> 500s\n",
      "!!! exposure time is too long for rate!!! \n",
      " Rescaling: 1413s -> 352s\n",
      "!!! exposure time is too long for tracking!!! \n",
      " Rescaling: 352s -> 500s\n",
      "!!! exposure time is too long for rate!!! \n",
      " Rescaling: 1901s -> 409s\n",
      "!!! exposure time is too long for tracking!!! \n",
      " Rescaling: 409s -> 500s\n",
      "!!! exposure time is too long for tracking!!! \n",
      " Rescaling: 531s -> 500s\n",
      "!!! exposure time is too long for rate!!! \n",
      " Rescaling: 438s -> 268s\n"
     ]
    },
    {
     "name": "stderr",
     "output_type": "stream",
     "text": [
      "/var/folders/db/hdghk6ts5g11hr10jq0ss625nf1ny2/T/ipykernel_14262/2478154778.py:40: SettingWithCopyWarning: \n",
      "A value is trying to be set on a copy of a slice from a DataFrame\n",
      "\n",
      "See the caveats in the documentation: https://pandas.pydata.org/pandas-docs/stable/user_guide/indexing.html#returning-a-view-versus-a-copy\n",
      "  looks['priority'].iloc[ind] = int(magrange[i][1])\n",
      "/var/folders/db/hdghk6ts5g11hr10jq0ss625nf1ny2/T/ipykernel_14262/2478154778.py:48: SettingWithCopyWarning: \n",
      "A value is trying to be set on a copy of a slice from a DataFrame\n",
      "\n",
      "See the caveats in the documentation: https://pandas.pydata.org/pandas-docs/stable/user_guide/indexing.html#returning-a-view-versus-a-copy\n",
      "  looks['priority'].iloc[j] = int(name[1])\n"
     ]
    }
   ],
   "source": [
    "look = scrub_look_targets()\n",
    "names = [['81P',0],['73P',0],['UN271',0]]\n",
    "look = look_priority(look,names=names)\n",
    "looks = make_look_entries(look)\n",
    "save_targs(looks,'look.json')"
   ]
  },
  {
   "cell_type": "code",
   "execution_count": 12,
   "metadata": {},
   "outputs": [
    {
     "data": {
      "text/plain": [
       "int"
      ]
     },
     "execution_count": 12,
     "metadata": {},
     "output_type": "execute_result"
    }
   ],
   "source": [
    "type(int(looks[0]['priority']))"
   ]
  },
  {
   "cell_type": "code",
   "execution_count": null,
   "metadata": {},
   "outputs": [],
   "source": []
  },
  {
   "cell_type": "code",
   "execution_count": 86,
   "metadata": {},
   "outputs": [
    {
     "data": {
      "text/plain": [
       "array([-8446744073709551616,    10000000000000000,  1000000000000000000,\n",
       "       -8446744073709551616,  5076944270305263616])"
      ]
     },
     "execution_count": 86,
     "metadata": {},
     "output_type": "execute_result"
    }
   ],
   "source": [
    "m = np.array([19,16,18,19,30])\n",
    "10**(m)"
   ]
  },
  {
   "cell_type": "code",
   "execution_count": 80,
   "metadata": {},
   "outputs": [],
   "source": []
  },
  {
   "cell_type": "code",
   "execution_count": 72,
   "metadata": {},
   "outputs": [],
   "source": [
    "from scipy.optimize import curve_fit"
   ]
  },
  {
   "cell_type": "code",
   "execution_count": 73,
   "metadata": {},
   "outputs": [],
   "source": [
    "popt, pcov = curve_fit(func, m, t)"
   ]
  },
  {
   "cell_type": "code",
   "execution_count": 74,
   "metadata": {},
   "outputs": [
    {
     "data": {
      "text/plain": [
       "array([ 14.71317761, -17.04790805,  18.22621702])"
      ]
     },
     "execution_count": 74,
     "metadata": {},
     "output_type": "execute_result"
    }
   ],
   "source": [
    "popt"
   ]
  },
  {
   "cell_type": "code",
   "execution_count": 79,
   "metadata": {},
   "outputs": [
    {
     "data": {
      "text/plain": [
       "[<matplotlib.lines.Line2D at 0x17da34400>]"
      ]
     },
     "execution_count": 79,
     "metadata": {},
     "output_type": "execute_result"
    },
    {
     "data": {
      "image/png": "[encoded data removed]",
      "text/plain": [
       "<Figure size 432x288 with 1 Axes>"
      ]
     },
     "metadata": {
      "needs_background": "light"
     },
     "output_type": "display_data"
    }
   ],
   "source": [
    "m = np.array([13,16,18,19,20])\n",
    "mm = np.arange(13,21,0.1)\n",
    "t = np.array([10,30,60,120,300])\n",
    "plt.figure()\n",
    "plt.plot(m,t)\n",
    "plt.plot(mm,func(mm,popt[0],popt[1],popt[2]))"
   ]
  },
  {
   "cell_type": "code",
   "execution_count": 77,
   "metadata": {},
   "outputs": [
    {
     "data": {
      "text/plain": [
       "array([1.01198145e-17, 1.03333012e+02])"
      ]
     },
     "execution_count": 77,
     "metadata": {},
     "output_type": "execute_result"
    }
   ],
   "source": [
    "np.polyfit(10**(m),t, 1)"
   ]
  },
  {
   "cell_type": "code",
   "execution_count": 32,
   "metadata": {},
   "outputs": [],
   "source": [
    "test = scrub_look_targets()"
   ]
  },
  {
   "cell_type": "code",
   "execution_count": 34,
   "metadata": {},
   "outputs": [
    {
     "data": {
      "text/html": [
       "<div>\n",
       "<style scoped>\n",
       "    .dataframe tbody tr th:only-of-type {\n",
       "        vertical-align: middle;\n",
       "    }\n",
       "\n",
       "    .dataframe tbody tr th {\n",
       "        vertical-align: top;\n",
       "    }\n",
       "\n",
       "    .dataframe thead th {\n",
       "        text-align: right;\n",
       "    }\n",
       "</style>\n",
       "<table border=\"1\" class=\"dataframe\">\n",
       "  <thead>\n",
       "    <tr style=\"text-align: right;\">\n",
       "      <th></th>\n",
       "      <th>Target Name</th>\n",
       "      <th>Target Subtype</th>\n",
       "      <th>R.A.</th>\n",
       "      <th>Dec.</th>\n",
       "      <th>V Mag.</th>\n",
       "      <th>Rate (\"/min)</th>\n",
       "      <th>Eccentricity</th>\n",
       "      <th>Period (years)</th>\n",
       "      <th>Perihelion  Distance (AU)</th>\n",
       "      <th>Reciprocal Semi-  Major Axis (1/a; AU)</th>\n",
       "      <th>Observation Window  (for next 90 days)</th>\n",
       "    </tr>\n",
       "  </thead>\n",
       "  <tbody>\n",
       "    <tr>\n",
       "      <th>2</th>\n",
       "      <td>C/2022 S3</td>\n",
       "      <td>NaN</td>\n",
       "      <td>20 11 54.47</td>\n",
       "      <td>-17 37 25.0</td>\n",
       "      <td>20.6</td>\n",
       "      <td>1.29</td>\n",
       "      <td>0.99997</td>\n",
       "      <td>4049000.0</td>\n",
       "      <td>0.8384</td>\n",
       "      <td>NaN</td>\n",
       "      <td>[-----]</td>\n",
       "    </tr>\n",
       "  </tbody>\n",
       "</table>\n",
       "</div>"
      ],
      "text/plain": [
       "  Target Name  Target Subtype         R.A.         Dec.  V Mag.  Rate (\"/min)  \\\n",
       "2   C/2022 S3             NaN  20 11 54.47  -17 37 25.0    20.6          1.29   \n",
       "\n",
       "   Eccentricity  Period (years)  Perihelion  Distance (AU)  \\\n",
       "2       0.99997       4049000.0                     0.8384   \n",
       "\n",
       "   Reciprocal Semi-  Major Axis (1/a; AU)  \\\n",
       "2                                     NaN   \n",
       "\n",
       "  Observation Window  (for next 90 days)  \n",
       "2                                [-----]  "
      ]
     },
     "execution_count": 34,
     "metadata": {},
     "output_type": "execute_result"
    }
   ],
   "source": [
    "test['V         ']"
   ]
  },
  {
   "cell_type": "code",
   "execution_count": 12,
   "metadata": {},
   "outputs": [],
   "source": [
    "looks = pd.read_html('https://neoexchange.lco.global/lookproject/')\n",
    "active = looks[0]\n",
    "new = looks[1]"
   ]
  },
  {
   "cell_type": "code",
   "execution_count": 19,
   "metadata": {},
   "outputs": [],
   "source": [
    "mag_ind = active['V Mag.'].values < 22\n",
    "active = active.iloc[mag_ind]"
   ]
  },
  {
   "cell_type": "code",
   "execution_count": 24,
   "metadata": {},
   "outputs": [],
   "source": []
  },
  {
   "cell_type": "code",
   "execution_count": 25,
   "metadata": {},
   "outputs": [
    {
     "data": {
      "text/plain": [
       "[12,\n",
       " -7,\n",
       " 25,\n",
       " 9,\n",
       " -21,\n",
       " -5,\n",
       " -33,\n",
       " -33,\n",
       " -34,\n",
       " 19,\n",
       " -3,\n",
       " -73,\n",
       " -18,\n",
       " 1,\n",
       " 8,\n",
       " 23,\n",
       " -33,\n",
       " -32,\n",
       " 0,\n",
       " 18,\n",
       " -7,\n",
       " -21,\n",
       " 28,\n",
       " 0,\n",
       " 27,\n",
       " -32,\n",
       " 14,\n",
       " 20,\n",
       " 7,\n",
       " 33,\n",
       " -50,\n",
       " -21,\n",
       " 26,\n",
       " 23,\n",
       " 21,\n",
       " -61,\n",
       " 0,\n",
       " -43,\n",
       " -17,\n",
       " -2,\n",
       " 2,\n",
       " -41,\n",
       " -43,\n",
       " 13,\n",
       " -20,\n",
       " 23,\n",
       " -39,\n",
       " -22,\n",
       " 27,\n",
       " 10,\n",
       " 29,\n",
       " -18,\n",
       " -25,\n",
       " -71,\n",
       " 6,\n",
       " -43,\n",
       " -33,\n",
       " -5]"
      ]
     },
     "execution_count": 25,
     "metadata": {},
     "output_type": "execute_result"
    }
   ],
   "source": [
    "x"
   ]
  },
  {
   "cell_type": "code",
   "execution_count": null,
   "metadata": {},
   "outputs": [],
   "source": []
  },
  {
   "cell_type": "code",
   "execution_count": 13,
   "metadata": {},
   "outputs": [],
   "source": [
    "\n",
    "mag_ind = new['V Mag.'].values < 22\n",
    "new = new.iloc[mag_ind]"
   ]
  },
  {
   "cell_type": "code",
   "execution_count": 85,
   "metadata": {},
   "outputs": [
    {
     "data": {
      "text/plain": [
       "0     19.6\n",
       "1     19.3\n",
       "2     20.0\n",
       "3     17.6\n",
       "4     18.0\n",
       "5     16.1\n",
       "6     19.0\n",
       "7     19.1\n",
       "8     17.4\n",
       "9     17.8\n",
       "10    19.2\n",
       "11    18.8\n",
       "12    17.7\n",
       "13    13.5\n",
       "14    18.1\n",
       "15    15.5\n",
       "17    20.2\n",
       "18    16.9\n",
       "19    19.9\n",
       "20    20.5\n",
       "21    15.6\n",
       "22    19.8\n",
       "24    18.6\n",
       "25    19.3\n",
       "26    18.7\n",
       "27    16.3\n",
       "28    20.0\n",
       "29    20.8\n",
       "30    21.4\n",
       "31    19.5\n",
       "33    15.0\n",
       "35    21.1\n",
       "36    17.3\n",
       "37    21.1\n",
       "38    21.8\n",
       "39    18.9\n",
       "40    20.1\n",
       "41    21.9\n",
       "42    18.7\n",
       "43    17.1\n",
       "45    21.6\n",
       "46    15.5\n",
       "48    17.1\n",
       "49    19.6\n",
       "50    18.9\n",
       "53    18.3\n",
       "54    20.5\n",
       "56    15.9\n",
       "58    17.9\n",
       "59    19.2\n",
       "60    15.9\n",
       "61    14.2\n",
       "62    17.1\n",
       "63    18.2\n",
       "64    19.2\n",
       "65    12.7\n",
       "66    13.3\n",
       "68    20.4\n",
       "Name: V Mag., dtype: float64"
      ]
     },
     "execution_count": 85,
     "metadata": {},
     "output_type": "execute_result"
    }
   ],
   "source": [
    "active['V Mag.']"
   ]
  },
  {
   "cell_type": "code",
   "execution_count": 28,
   "metadata": {},
   "outputs": [],
   "source": [
    "looks = pd.read_html('https://neoexchange.lco.global/lookproject/')"
   ]
  },
  {
   "cell_type": "code",
   "execution_count": 32,
   "metadata": {},
   "outputs": [
    {
     "name": "stdout",
     "output_type": "stream",
     "text": [
      "C/2022 U3\n",
      "2003 CC22\n",
      "445P\n",
      "C/2022 S4\n",
      "C/2022 R6\n",
      "157P\n",
      "2022 QE78\n",
      "285P\n",
      "73P-BV\n",
      "73P-BU\n",
      "73P-JD001\n",
      "C/2022 L2\n",
      "395P\n",
      "C/2022 F1\n",
      "C/2022 E2\n",
      "81P\n",
      "C/2022 A3\n",
      "C/2021 Y1\n",
      "108P\n",
      "A/2021 X2\n",
      "C/2021 G2\n",
      "97P\n",
      "57P\n",
      "C/2021 T4\n",
      "C/2021 T2\n",
      "C/2021 T1\n",
      "C/2021 S4\n",
      "382P\n",
      "C/2021 S1\n",
      "C/2021 S3\n",
      "19P\n",
      "C/2021 R2\n",
      "P/2021 R1\n",
      "C/2021 Q4\n",
      "241P\n",
      "C/2021 P4\n",
      "120P\n",
      "386968\n",
      "44P\n",
      "2005 QN173\n",
      "17P\n",
      "C/2014 UN271\n",
      "C/2021 K2\n",
      "C/2021 K3\n",
      "99P\n",
      "22P\n",
      "2005 XR132\n",
      "7P\n",
      "C/2021 E3\n",
      "C/2021 C4\n",
      "C/2021 C5\n",
      "C/2021 A9\n",
      "C/2021 A1\n",
      "P/2020 X1\n",
      "191P\n",
      "C/2020 U4\n",
      "C/2020 T2\n",
      "156P\n",
      "C/2020 R7\n",
      "C/2018 F4\n",
      "C/2020 O2\n",
      "A/2019 U5\n",
      "29P\n",
      "C/2019 L3\n",
      "C/2019 F1\n",
      "C/2019 E3\n",
      "2060\n",
      "C/2017 K2\n",
      "73P\n",
      "45P\n",
      "67P\n"
     ]
    }
   ],
   "source": [
    "for i in range(len(looks[0]['Target Name'])):\n",
    "    print(looks[0]['Target Name'].iloc[i])"
   ]
  },
  {
   "cell_type": "code",
   "execution_count": 39,
   "metadata": {},
   "outputs": [
    {
     "data": {
      "text/plain": [
       "1     19.6\n",
       "2     19.5\n",
       "4     19.6\n",
       "5     17.6\n",
       "6     17.9\n",
       "7     16.1\n",
       "8     19.4\n",
       "9     19.5\n",
       "10    17.4\n",
       "12    19.3\n",
       "13    18.8\n",
       "14    17.6\n",
       "15    13.4\n",
       "16    17.9\n",
       "19    20.3\n",
       "20    16.8\n",
       "21    19.9\n",
       "23    15.5\n",
       "24    20.0\n",
       "27    19.3\n",
       "29    16.2\n",
       "30    20.1\n",
       "32    21.5\n",
       "35    15.2\n",
       "37    21.0\n",
       "41    18.9\n",
       "42    20.2\n",
       "43    21.9\n",
       "44    18.7\n",
       "45    17.3\n",
       "47    21.6\n",
       "48    15.5\n",
       "50    17.1\n",
       "51    19.6\n",
       "52    19.0\n",
       "54    21.9\n",
       "56    20.6\n",
       "58    16.0\n",
       "61    19.2\n",
       "63    14.2\n",
       "64    17.2\n",
       "65    18.2\n",
       "66    19.3\n",
       "67    12.7\n",
       "68    13.7\n",
       "70    20.4\n",
       "Name: V Mag., dtype: float64"
      ]
     },
     "execution_count": 39,
     "metadata": {},
     "output_type": "execute_result"
    }
   ],
   "source": [
    "look['active']['V Mag.']"
   ]
  },
  {
   "cell_type": "code",
   "execution_count": 25,
   "metadata": {},
   "outputs": [
    {
     "name": "stdout",
     "output_type": "stream",
     "text": [
      "           targetname               datetime_str   ...  PABLon  PABLat\n",
      "              ---                       ---        ...   deg     deg  \n",
      "-------------------------------- ----------------- ... ------- -------\n",
      "Didymos (system barycenter) (200 2022-Nov-12 00:00 ... 89.0397 -5.0869\n",
      "Didymos (system barycenter) (200 2022-Nov-12 00:10 ... 89.0446 -5.0841\n",
      "Didymos (system barycenter) (200 2022-Nov-12 00:20 ... 89.0496 -5.0813\n",
      "Didymos (system barycenter) (200 2022-Nov-12 00:30 ... 89.0546 -5.0786\n",
      "Didymos (system barycenter) (200 2022-Nov-12 00:40 ... 89.0596 -5.0758\n",
      "Didymos (system barycenter) (200 2022-Nov-12 00:50 ... 89.0645  -5.073\n",
      "Didymos (system barycenter) (200 2022-Nov-12 01:00 ... 89.0696 -5.0702\n",
      "                             ...               ... ...     ...     ...\n",
      "Didymos (system barycenter) (200 2022-Nov-12 23:00 ... 89.7068 -4.7021\n",
      "Didymos (system barycenter) (200 2022-Nov-12 23:10 ... 89.7116 -4.6994\n",
      "Didymos (system barycenter) (200 2022-Nov-12 23:20 ... 89.7164 -4.6968\n",
      "Didymos (system barycenter) (200 2022-Nov-12 23:30 ... 89.7211 -4.6941\n",
      "Didymos (system barycenter) (200 2022-Nov-12 23:40 ... 89.7259 -4.6914\n",
      "Didymos (system barycenter) (200 2022-Nov-12 23:50 ... 89.7307 -4.6888\n",
      "Didymos (system barycenter) (200 2022-Nov-13 00:00 ... 89.7356 -4.6861\n",
      "Length = 145 rows\n"
     ]
    }
   ],
   "source": [
    "from astroquery.jplhorizons import Horizons\n",
    "obj = Horizons(id='20065803', location='474',\n",
    "               epochs={'start':'2022-11-12', 'stop':'2022-11-13',\n",
    "                       'step':'10m'})\n",
    "eph = obj.ephemerides()\n",
    "print(eph)"
   ]
  },
  {
   "cell_type": "code",
   "execution_count": 32,
   "metadata": {},
   "outputs": [],
   "source": [
    "t = eph.to_pandas()\n",
    "air_ind = t['airmass'].values < 2.5\n",
    "t = t.iloc[air_ind]"
   ]
  },
  {
   "cell_type": "code",
   "execution_count": 28,
   "metadata": {},
   "outputs": [
    {
     "data": {
      "text/plain": [
       "Index(['targetname', 'datetime_str', 'datetime_jd', 'solar_presence', 'flags',\n",
       "       'RA', 'DEC', 'RA_app', 'DEC_app', 'RA_rate', 'DEC_rate', 'AZ', 'EL',\n",
       "       'AZ_rate', 'EL_rate', 'sat_X', 'sat_Y', 'sat_PANG', 'siderealtime',\n",
       "       'airmass', 'magextinct', 'V', 'surfbright', 'illumination',\n",
       "       'illum_defect', 'sat_sep', 'sat_vis', 'ang_width', 'PDObsLon',\n",
       "       'PDObsLat', 'PDSunLon', 'PDSunLat', 'SubSol_ang', 'SubSol_dist',\n",
       "       'NPole_ang', 'NPole_dist', 'EclLon', 'EclLat', 'r', 'r_rate', 'delta',\n",
       "       'delta_rate', 'lighttime', 'vel_sun', 'vel_obs', 'elong', 'elongFlag',\n",
       "       'alpha', 'lunar_elong', 'lunar_illum', 'sat_alpha', 'sunTargetPA',\n",
       "       'velocityPA', 'OrbPlaneAng', 'constellation', 'TDB-UT', 'ObsEclLon',\n",
       "       'ObsEclLat', 'NPole_RA', 'NPole_DEC', 'GlxLon', 'GlxLat', 'solartime',\n",
       "       'earth_lighttime', 'RA_3sigma', 'DEC_3sigma', 'SMAA_3sigma',\n",
       "       'SMIA_3sigma', 'Theta_3sigma', 'Area_3sigma', 'RSS_3sigma', 'r_3sigma',\n",
       "       'r_rate_3sigma', 'SBand_3sigma', 'XBand_3sigma', 'DoppDelay_3sigma',\n",
       "       'true_anom', 'hour_angle', 'alpha_true', 'PABLon', 'PABLat'],\n",
       "      dtype='object')"
      ]
     },
     "execution_count": 28,
     "metadata": {},
     "output_type": "execute_result"
    }
   ],
   "source": [
    "t.keys()"
   ]
  },
  {
   "cell_type": "code",
   "execution_count": 31,
   "metadata": {},
   "outputs": [],
   "source": []
  },
  {
   "cell_type": "code",
   "execution_count": null,
   "metadata": {},
   "outputs": [],
   "source": []
  },
  {
   "cell_type": "code",
   "execution_count": 33,
   "metadata": {},
   "outputs": [
    {
     "data": {
      "text/plain": [
       "[<matplotlib.lines.Line2D at 0x16a369a30>]"
      ]
     },
     "execution_count": 33,
     "metadata": {},
     "output_type": "execute_result"
    },
    {
     "data": {
      "image/png": "[encoded data removed]",
      "text/plain": [
       "<Figure size 432x288 with 1 Axes>"
      ]
     },
     "metadata": {
      "needs_background": "light"
     },
     "output_type": "display_data"
    }
   ],
   "source": [
    "plt.figure()\n",
    "plt.plot(t['airmass'].values)"
   ]
  },
  {
   "cell_type": "code",
   "execution_count": 34,
   "metadata": {},
   "outputs": [
    {
     "data": {
      "text/plain": [
       "89     2022-Nov-12 14:50\n",
       "90     2022-Nov-12 15:00\n",
       "91     2022-Nov-12 15:10\n",
       "92     2022-Nov-12 15:20\n",
       "93     2022-Nov-12 15:30\n",
       "94     2022-Nov-12 15:40\n",
       "95     2022-Nov-12 15:50\n",
       "96     2022-Nov-12 16:00\n",
       "97     2022-Nov-12 16:10\n",
       "98     2022-Nov-12 16:20\n",
       "99     2022-Nov-12 16:30\n",
       "100    2022-Nov-12 16:40\n",
       "101    2022-Nov-12 16:50\n",
       "102    2022-Nov-12 17:00\n",
       "103    2022-Nov-12 17:10\n",
       "104    2022-Nov-12 17:20\n",
       "105    2022-Nov-12 17:30\n",
       "106    2022-Nov-12 17:40\n",
       "107    2022-Nov-12 17:50\n",
       "108    2022-Nov-12 18:00\n",
       "109    2022-Nov-12 18:10\n",
       "110    2022-Nov-12 18:20\n",
       "111    2022-Nov-12 18:30\n",
       "112    2022-Nov-12 18:40\n",
       "113    2022-Nov-12 18:50\n",
       "114    2022-Nov-12 19:00\n",
       "115    2022-Nov-12 19:10\n",
       "116    2022-Nov-12 19:20\n",
       "117    2022-Nov-12 19:30\n",
       "118    2022-Nov-12 19:40\n",
       "119    2022-Nov-12 19:50\n",
       "Name: datetime_str, dtype: object"
      ]
     },
     "execution_count": 34,
     "metadata": {},
     "output_type": "execute_result"
    }
   ],
   "source": [
    "t['datetime_str']"
   ]
  },
  {
   "cell_type": "code",
   "execution_count": null,
   "metadata": {},
   "outputs": [],
   "source": []
  }
 ],
 "metadata": {
  "kernelspec": {
   "display_name": "Python 3 (ipykernel)",
   "language": "python",
   "name": "python3"
  },
  "language_info": {
   "codemirror_mode": {
    "name": "ipython",
    "version": 3
   },
   "file_extension": ".py",
   "mimetype": "text/x-python",
   "name": "python",
   "nbconvert_exporter": "python",
   "pygments_lexer": "ipython3",
   "version": "3.9.13"
  },
  "vscode": {
   "interpreter": {
    "hash": "42e41a4508e5fc4ab02f1200527090e813b24cf3bc748d5466c90ef25c56102e"
   }
  }
 },
 "nbformat": 4,
 "nbformat_minor": 2
}
